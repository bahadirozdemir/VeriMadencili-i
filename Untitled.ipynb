{
 "cells": [
  {
   "cell_type": "code",
   "execution_count": 21,
   "id": "f5c19211",
   "metadata": {},
   "outputs": [],
   "source": [
    "import requests\n",
    "from bs4 import BeautifulSoup\n",
    "import pandas as pd\n",
    "import numpy as np"
   ]
  },
  {
   "cell_type": "code",
   "execution_count": 16,
   "id": "22c7545f",
   "metadata": {},
   "outputs": [
    {
     "name": "stdout",
     "output_type": "stream",
     "text": [
      "alfa-romeo-yorumlari\n",
      "audi-yorumlari\n",
      "bmw-yorumlari\n",
      "citroen-yorumlari\n",
      "cupra-yorumlari\n",
      "dacia-yorumlari\n",
      "dfsk-yorumlari\n",
      "ds-automobiles-yorumlari\n",
      "fiat-yorumlari\n",
      "ford-yorumlari\n",
      "gazelle-yorumlari\n",
      "honda-yorumlari\n",
      "hyundai-yorumlari\n",
      "isuzu-yorumlari\n",
      "jaguar-yorumlari\n",
      "jeep-yorumlari\n",
      "kia-yorumlari\n",
      "land-rover-yorumlari\n",
      "lexus-yorumlari\n",
      "maserati-yorumlari\n",
      "mazda-yorumlari\n",
      "mercedes-yorumlari\n",
      "mg-yorumlari\n",
      "mini-yorumlari\n",
      "mitsubishi-yorumlari\n",
      "nissan-yorumlari\n",
      "opel-yorumlari\n",
      "peugeot-yorumlari\n",
      "porsche-yorumlari\n",
      "renault-yorumlari\n",
      "seat-yorumlari\n",
      "skoda-yorumlari\n",
      "skywell-yorumlari\n",
      "smart-yorumlari\n",
      "ssangyong-yorumlari\n",
      "subaru-yorumlari\n",
      "suzuki-yorumlari\n",
      "togg-yorumlari\n",
      "toyota-yorumlari\n",
      "volkswagen-yorumlari\n",
      "volvo-yorumlari\n"
     ]
    }
   ],
   "source": [
    "dizi =  []\n",
    "sorgu = requests.get(\"https://www.sifiraracal.com/otomobil-araba-yorumlari\")\n",
    "sop = BeautifulSoup(sorgu.content,\"html.parser\")\n",
    "select=sop.find_all(\"select\",attrs={\"class\":\"yorumyonlendir\"})[0].find_all(\"option\")\n",
    "for options in select:\n",
    "    if(options[\"value\"]==\"\"):\n",
    "        continue\n",
    "    else:\n",
    "        dizi.append(options[\"value\"])\n",
    "        \n",
    "for x in dizi:\n",
    "    print(x)"
   ]
  },
  {
   "cell_type": "code",
   "execution_count": 20,
   "id": "659b143c",
   "metadata": {
    "scrolled": false
   },
   "outputs": [
    {
     "name": "stdout",
     "output_type": "stream",
     "text": [
      "8\n",
      "59\n",
      "32\n",
      "58\n",
      "1\n",
      "50\n",
      "1\n",
      "5\n",
      "87\n",
      "81\n",
      "1\n",
      "74\n",
      "72\n",
      "3\n",
      "12\n",
      "13\n",
      "45\n",
      "9\n",
      "6\n",
      "2\n",
      "17\n",
      "26\n",
      "1\n",
      "9\n",
      "17\n",
      "43\n",
      "53\n",
      "45\n",
      "3\n",
      "78\n",
      "23\n",
      "45\n",
      "1\n",
      "1\n",
      "15\n",
      "10\n",
      "19\n",
      "1\n",
      "46\n",
      "51\n",
      "25\n"
     ]
    }
   ],
   "source": [
    "\n",
    "import csv \n",
    "for i in range(0,len(dizi)):\n",
    "    istek = requests.get(\"https://www.sifiraracal.com/\"+dizi[i])\n",
    "    soup = BeautifulSoup(istek.content,\"html.parser\")\n",
    "    sayfalar=soup.find_all(\"div\",attrs={\"class\":\"paging\"})[0].find_all(\"a\")\n",
    "    elementsayisi=len(sayfalar)\n",
    "    toplamsayfa=sayfalar[elementsayisi-1].text\n",
    "    print(toplamsayfa)\n",
    "\n",
    "    for sayfano in range(1,int(toplamsayfa)+1):\n",
    "        istek = requests.get(\"https://www.sifiraracal.com/\"+dizi[i]+\"?p=\"+str(sayfano))\n",
    "        elementler=BeautifulSoup(istek.content,\"html.parser\")\n",
    "        aracmarka=elementler.find_all(\"div\",attrs={\"class\",\"b2\"})\n",
    "        for marka in aracmarka:\n",
    "            aracmarkasi=marka.find(\"div\",attrs={\"class\":\"title\"}).a.text\n",
    "            aracyorumlari=marka.find(\"div\",attrs={\"class\",\"yorummesaj\"}).text\n",
    "            file=open(\"yorumlar.csv\",\"a\",newline=\"\")\n",
    "            yazilacakveri=(dizi[i],aracyorumlari)\n",
    "            writer=csv.writer(file)\n",
    "            writer.writerow(yazilacakveri)\n",
    "            file.close()\n",
    "        \n",
    "\n",
    "## print(\"İstek Doğruluğu : \",istek.status_code)\n",
    "\n"
   ]
  },
  {
   "cell_type": "code",
   "execution_count": 1,
   "id": "6ea92797",
   "metadata": {},
   "outputs": [
    {
     "name": "stdout",
     "output_type": "stream",
     "text": [
      "Orjinal Veri Seti Veri Sayısı : 33836\n",
      "Orjinal Veri Setindeki Tekrar Eden Veri Sayısı : 11626\n",
      "Veri Setinde Tekil Olan Veri Sayısı 22005\n",
      "Araç Markası      object\n",
      "Araç Yorumları    object\n",
      "dtype: object\n"
     ]
    },
    {
     "data": {
      "text/html": [
       "<div>\n",
       "<style scoped>\n",
       "    .dataframe tbody tr th:only-of-type {\n",
       "        vertical-align: middle;\n",
       "    }\n",
       "\n",
       "    .dataframe tbody tr th {\n",
       "        vertical-align: top;\n",
       "    }\n",
       "\n",
       "    .dataframe thead th {\n",
       "        text-align: right;\n",
       "    }\n",
       "</style>\n",
       "<table border=\"1\" class=\"dataframe\">\n",
       "  <thead>\n",
       "    <tr style=\"text-align: right;\">\n",
       "      <th></th>\n",
       "      <th>Araç Markası</th>\n",
       "      <th>Araç Yorumları</th>\n",
       "    </tr>\n",
       "  </thead>\n",
       "  <tbody>\n",
       "    <tr>\n",
       "      <th>0</th>\n",
       "      <td>alfa-romeo-yorumlari</td>\n",
       "      <td>\\nŞu sıra bir 2012 modele bütçem yetiyor, alınır mı, kronik sorunları varb mıdır?\\n</td>\n",
       "    </tr>\n",
       "    <tr>\n",
       "      <th>1</th>\n",
       "      <td>alfa-romeo-yorumlari</td>\n",
       "      <td>\\nKimisinin beklentilerini karşılayamamış olabilir. Alman araçlarını kullanmış birisi olarak şunu söyleyeyim bu araba motor gücü, estetik dizaynı ve iç konforu ile sahibine yırtıcı bir\\n</td>\n",
       "    </tr>\n",
       "    <tr>\n",
       "      <th>2</th>\n",
       "      <td>alfa-romeo-yorumlari</td>\n",
       "      <td>\\nGuzel araç üst sınıf biraz porche tipli ama massarati de destek vermiş türkiye de gider\\n</td>\n",
       "    </tr>\n",
       "    <tr>\n",
       "      <th>3</th>\n",
       "      <td>alfa-romeo-yorumlari</td>\n",
       "      <td>\\nkeşke bu güzel araç için başka paketlerde olsaydı\\n</td>\n",
       "    </tr>\n",
       "    <tr>\n",
       "      <th>4</th>\n",
       "      <td>alfa-romeo-yorumlari</td>\n",
       "      <td>\\nsedan araçlarda beğendiğim bir tür ve iç hacmi çok geniş\\n</td>\n",
       "    </tr>\n",
       "    <tr>\n",
       "      <th>...</th>\n",
       "      <td>...</td>\n",
       "      <td>...</td>\n",
       "    </tr>\n",
       "    <tr>\n",
       "      <th>295</th>\n",
       "      <td>audi-yorumlari</td>\n",
       "      <td>\\nArkadaşlar 2019 a3 sedan kullanıyorum yağmurda siecekler çalıştığında sol kapı camından dere akıyor sanki aynayı göremiyorum sileceğin sildiği bütün su kapı camından gidiyor sizdede böyle bir sorun varmı yoksa benim arabamı hatalı.. Geri kalan herşeyinden çok memnunum\\n</td>\n",
       "    </tr>\n",
       "    <tr>\n",
       "      <th>296</th>\n",
       "      <td>audi-yorumlari</td>\n",
       "      <td>\\nvaliysen yapıştır\\n</td>\n",
       "    </tr>\n",
       "    <tr>\n",
       "      <th>297</th>\n",
       "      <td>audi-yorumlari</td>\n",
       "      <td>\\nvaliysen yapıştır\\n</td>\n",
       "    </tr>\n",
       "    <tr>\n",
       "      <th>298</th>\n",
       "      <td>audi-yorumlari</td>\n",
       "      <td>\\nValiysen hiç düşünme çak bi tane\\n</td>\n",
       "    </tr>\n",
       "    <tr>\n",
       "      <th>299</th>\n",
       "      <td>audi-yorumlari</td>\n",
       "      <td>\\nValiysen hiç düşünme çak bi tane\\n</td>\n",
       "    </tr>\n",
       "  </tbody>\n",
       "</table>\n",
       "<p>300 rows × 2 columns</p>\n",
       "</div>"
      ],
      "text/plain": [
       "             Araç Markası  \\\n",
       "0    alfa-romeo-yorumlari   \n",
       "1    alfa-romeo-yorumlari   \n",
       "2    alfa-romeo-yorumlari   \n",
       "3    alfa-romeo-yorumlari   \n",
       "4    alfa-romeo-yorumlari   \n",
       "..                    ...   \n",
       "295        audi-yorumlari   \n",
       "296        audi-yorumlari   \n",
       "297        audi-yorumlari   \n",
       "298        audi-yorumlari   \n",
       "299        audi-yorumlari   \n",
       "\n",
       "                                                                                                                                                                                                                                                                       Araç Yorumları  \n",
       "0                                                                                                                                                                                                 \\nŞu sıra bir 2012 modele bütçem yetiyor, alınır mı, kronik sorunları varb mıdır?\\n  \n",
       "1                                                                                          \\nKimisinin beklentilerini karşılayamamış olabilir. Alman araçlarını kullanmış birisi olarak şunu söyleyeyim bu araba motor gücü, estetik dizaynı ve iç konforu ile sahibine yırtıcı bir\\n  \n",
       "2                                                                                                                                                                                         \\nGuzel araç üst sınıf biraz porche tipli ama massarati de destek vermiş türkiye de gider\\n  \n",
       "3                                                                                                                                                                                                                               \\nkeşke bu güzel araç için başka paketlerde olsaydı\\n  \n",
       "4                                                                                                                                                                                                                        \\nsedan araçlarda beğendiğim bir tür ve iç hacmi çok geniş\\n  \n",
       "..                                                                                                                                                                                                                                                                                ...  \n",
       "295  \\nArkadaşlar 2019 a3 sedan kullanıyorum yağmurda siecekler çalıştığında sol kapı camından dere akıyor sanki aynayı göremiyorum sileceğin sildiği bütün su kapı camından gidiyor sizdede böyle bir sorun varmı yoksa benim arabamı hatalı.. Geri kalan herşeyinden çok memnunum\\n  \n",
       "296                                                                                                                                                                                                                                                             \\nvaliysen yapıştır\\n  \n",
       "297                                                                                                                                                                                                                                                             \\nvaliysen yapıştır\\n  \n",
       "298                                                                                                                                                                                                                                              \\nValiysen hiç düşünme çak bi tane\\n  \n",
       "299                                                                                                                                                                                                                                              \\nValiysen hiç düşünme çak bi tane\\n  \n",
       "\n",
       "[300 rows x 2 columns]"
      ]
     },
     "metadata": {},
     "output_type": "display_data"
    }
   ],
   "source": [
    "import pandas as pd\n",
    "import re\n",
    "from pandas import option_context\n",
    "df=pd.read_csv('yorumlar.csv')\n",
    "print(\"Orjinal Veri Seti Veri Sayısı : \"+str(len(df)))\n",
    "print(\"Orjinal Veri Setindeki Tekrar Eden Veri Sayısı : \"+str(df.duplicated().sum()))\n",
    "print(\"Veri Setinde Tekil Olan Veri Sayısı \"+str(df[\"Araç Yorumları\"].nunique()))\n",
    "print(df.dtypes)\n",
    "with option_context('display.max_colwidth',400):\n",
    "    display(df.head(300))\n"
   ]
  },
  {
   "cell_type": "code",
   "execution_count": 2,
   "id": "83b85b6a",
   "metadata": {
    "scrolled": true
   },
   "outputs": [
    {
     "data": {
      "text/html": [
       "<div>\n",
       "<style scoped>\n",
       "    .dataframe tbody tr th:only-of-type {\n",
       "        vertical-align: middle;\n",
       "    }\n",
       "\n",
       "    .dataframe tbody tr th {\n",
       "        vertical-align: top;\n",
       "    }\n",
       "\n",
       "    .dataframe thead th {\n",
       "        text-align: right;\n",
       "    }\n",
       "</style>\n",
       "<table border=\"1\" class=\"dataframe\">\n",
       "  <thead>\n",
       "    <tr style=\"text-align: right;\">\n",
       "      <th></th>\n",
       "      <th>Araç Markası</th>\n",
       "      <th>Araç Yorumları</th>\n",
       "    </tr>\n",
       "  </thead>\n",
       "  <tbody>\n",
       "    <tr>\n",
       "      <th>0</th>\n",
       "      <td>alfa romeo</td>\n",
       "      <td>şu sıra bir 2012 modele bütçem yetiyor  alınır mı  kronik sorunları varb mıdır</td>\n",
       "    </tr>\n",
       "    <tr>\n",
       "      <th>1</th>\n",
       "      <td>alfa romeo</td>\n",
       "      <td>kimisinin beklentilerini karşılayamamış olabilir  alman araçlarını kullanmış birisi olarak şunu söyleyeyim bu araba motor gücü  estetik dizaynı ve iç konforu ile sahibine yırtıcı bir</td>\n",
       "    </tr>\n",
       "    <tr>\n",
       "      <th>2</th>\n",
       "      <td>alfa romeo</td>\n",
       "      <td>guzel araç üst sınıf biraz porche tipli ama massarati de destek vermiş türkiye de gider</td>\n",
       "    </tr>\n",
       "    <tr>\n",
       "      <th>3</th>\n",
       "      <td>alfa romeo</td>\n",
       "      <td>keşke bu güzel araç için başka paketlerde olsaydı</td>\n",
       "    </tr>\n",
       "    <tr>\n",
       "      <th>4</th>\n",
       "      <td>alfa romeo</td>\n",
       "      <td>sedan araçlarda beğendiğim bir tür ve iç hacmi çok geniş</td>\n",
       "    </tr>\n",
       "    <tr>\n",
       "      <th>...</th>\n",
       "      <td>...</td>\n",
       "      <td>...</td>\n",
       "    </tr>\n",
       "    <tr>\n",
       "      <th>295</th>\n",
       "      <td>audi</td>\n",
       "      <td>2010 a4 b8 kasa 2 0tfsi almayı düşünüyorum temiz araç yağ yakma problemi yok uzun kullanımda problem çıkarırmı</td>\n",
       "    </tr>\n",
       "    <tr>\n",
       "      <th>296</th>\n",
       "      <td>audi</td>\n",
       "      <td>merhaba arkadaşlar 2017 a3 sedan 1 6 tdi spot line almayı düşünüyorum paket olarak nasıl diğer paketler arasında çok fark var mı hangi paket daha az yakıyor tavsiye edermısınız</td>\n",
       "    </tr>\n",
       "    <tr>\n",
       "      <th>297</th>\n",
       "      <td>audi</td>\n",
       "      <td>mrb kolay gelsin 2018 model a4 1 4tfs motor dynamic düşünüyorum    aracı kullanan veya bilenler aracı kronik sorunu varmı bilgi verirmisiniz şimdi den çok teşekkür ederim</td>\n",
       "    </tr>\n",
       "    <tr>\n",
       "      <th>298</th>\n",
       "      <td>audi</td>\n",
       "      <td>benim olmalıydın</td>\n",
       "    </tr>\n",
       "    <tr>\n",
       "      <th>299</th>\n",
       "      <td>audi</td>\n",
       "      <td>araç çok güzel hiç tereddüt etmeden gönül rahatlığıyla alabilirsiniz uçak almayın bunu alın</td>\n",
       "    </tr>\n",
       "  </tbody>\n",
       "</table>\n",
       "<p>300 rows × 2 columns</p>\n",
       "</div>"
      ],
      "text/plain": [
       "    Araç Markası  \\\n",
       "0     alfa romeo   \n",
       "1     alfa romeo   \n",
       "2     alfa romeo   \n",
       "3     alfa romeo   \n",
       "4     alfa romeo   \n",
       "..           ...   \n",
       "295         audi   \n",
       "296         audi   \n",
       "297         audi   \n",
       "298         audi   \n",
       "299         audi   \n",
       "\n",
       "                                                                                                                                                                               Araç Yorumları  \n",
       "0                                                                                                            şu sıra bir 2012 modele bütçem yetiyor  alınır mı  kronik sorunları varb mıdır    \n",
       "1     kimisinin beklentilerini karşılayamamış olabilir  alman araçlarını kullanmış birisi olarak şunu söyleyeyim bu araba motor gücü  estetik dizaynı ve iç konforu ile sahibine yırtıcı bir   \n",
       "2                                                                                                    guzel araç üst sınıf biraz porche tipli ama massarati de destek vermiş türkiye de gider   \n",
       "3                                                                                                                                          keşke bu güzel araç için başka paketlerde olsaydı   \n",
       "4                                                                                                                                   sedan araçlarda beğendiğim bir tür ve iç hacmi çok geniş   \n",
       "..                                                                                                                                                                                        ...  \n",
       "295                                                                           2010 a4 b8 kasa 2 0tfsi almayı düşünüyorum temiz araç yağ yakma problemi yok uzun kullanımda problem çıkarırmı   \n",
       "296         merhaba arkadaşlar 2017 a3 sedan 1 6 tdi spot line almayı düşünüyorum paket olarak nasıl diğer paketler arasında çok fark var mı hangi paket daha az yakıyor tavsiye edermısınız   \n",
       "297               mrb kolay gelsin 2018 model a4 1 4tfs motor dynamic düşünüyorum    aracı kullanan veya bilenler aracı kronik sorunu varmı bilgi verirmisiniz şimdi den çok teşekkür ederim   \n",
       "298                                                                                                                                                                         benim olmalıydın   \n",
       "299                                                                                         araç çok güzel hiç tereddüt etmeden gönül rahatlığıyla alabilirsiniz uçak almayın bunu alın        \n",
       "\n",
       "[300 rows x 2 columns]"
      ]
     },
     "metadata": {},
     "output_type": "display_data"
    }
   ],
   "source": [
    "import re\n",
    "import pandas as pd\n",
    "from pandas import option_context\n",
    "df=pd.read_csv('yorumlar.csv')\n",
    "df = df.drop_duplicates(subset=\"Araç Yorumları\", keep=\"first\", inplace=False)\n",
    "df.to_csv(\"dataset.csv\", index=False)\n",
    "df=pd.read_csv(\"dataset.csv\")\n",
    "\n",
    "df['Araç Markası'] = df['Araç Markası'].str.split('-yorumlari').str[0] ## Araç Markası Sütunundaki -yorumlari kaldırır\n",
    "df['Araç Yorumları'] = df['Araç Yorumları'].str.lower() ## Araç Yorumları Sütunundaki harfleri küçük yapar.\n",
    "for index,cumle in enumerate(df[\"Araç Yorumları\"]):\n",
    "    df[\"Araç Yorumları\"][index]=re.sub('[?|$|.|!|,|...|:|)|\\n]',\" \",str(cumle))\n",
    "\n",
    "    \n",
    "df = df.replace(\"alfa-romeo\",\"alfa romeo\")\n",
    "df = df.replace(\"land-rover\",\"land rover\") \n",
    "with option_context('display.max_colwidth',400):\n",
    "    display(df.head(300))    \n",
    " "
   ]
  },
  {
   "cell_type": "code",
   "execution_count": 6,
   "id": "5c3c7d4a",
   "metadata": {
    "scrolled": false
   },
   "outputs": [
    {
     "name": "stdout",
     "output_type": "stream",
     "text": [
      "22005\n",
      "İşlem Tamamlandı.\n"
     ]
    }
   ],
   "source": [
    "#############################################FİNAL#######################################################\n",
    "#ingilizceye çevirme\n",
    "import googletrans \n",
    "from googletrans import Translator\n",
    "translator = Translator()\n",
    "ingilizce_yorumlar = []\n",
    "index=0;\n",
    "for cumle in df[\"Araç Yorumları\"]:\n",
    "    clear_output(wait=True)\n",
    "    index=index+1\n",
    "    print(index)\n",
    "    ingilizce_yorumlar.append(translator.translate(cumle).text)\n",
    "    \n",
    "\n",
    "print(\"İşlem Tamamlandı.\");"
   ]
  },
  {
   "cell_type": "code",
   "execution_count": 3,
   "id": "c09d1696",
   "metadata": {},
   "outputs": [
    {
     "data": {
      "text/html": [
       "<div>\n",
       "<style scoped>\n",
       "    .dataframe tbody tr th:only-of-type {\n",
       "        vertical-align: middle;\n",
       "    }\n",
       "\n",
       "    .dataframe tbody tr th {\n",
       "        vertical-align: top;\n",
       "    }\n",
       "\n",
       "    .dataframe thead th {\n",
       "        text-align: right;\n",
       "    }\n",
       "</style>\n",
       "<table border=\"1\" class=\"dataframe\">\n",
       "  <thead>\n",
       "    <tr style=\"text-align: right;\">\n",
       "      <th></th>\n",
       "      <th>Araç Markası</th>\n",
       "      <th>ingilizce_yorumlar</th>\n",
       "    </tr>\n",
       "  </thead>\n",
       "  <tbody>\n",
       "    <tr>\n",
       "      <th>0</th>\n",
       "      <td>alfa romeo</td>\n",
       "      <td>at the moment i can afford a 2012 model, can i...</td>\n",
       "    </tr>\n",
       "    <tr>\n",
       "      <th>1</th>\n",
       "      <td>alfa romeo</td>\n",
       "      <td>It may not have met the expectations of some, ...</td>\n",
       "    </tr>\n",
       "    <tr>\n",
       "      <th>2</th>\n",
       "      <td>alfa romeo</td>\n",
       "      <td>nice car, top class, a bit porsche type, but m...</td>\n",
       "    </tr>\n",
       "    <tr>\n",
       "      <th>3</th>\n",
       "      <td>alfa romeo</td>\n",
       "      <td>I wish there were other packages for this beau...</td>\n",
       "    </tr>\n",
       "    <tr>\n",
       "      <th>4</th>\n",
       "      <td>alfa romeo</td>\n",
       "      <td>It is a type that I like in sedan vehicles and...</td>\n",
       "    </tr>\n",
       "    <tr>\n",
       "      <th>...</th>\n",
       "      <td>...</td>\n",
       "      <td>...</td>\n",
       "    </tr>\n",
       "    <tr>\n",
       "      <th>22000</th>\n",
       "      <td>volvo</td>\n",
       "      <td>A vehicle that deserves to receive 5 stars in ...</td>\n",
       "    </tr>\n",
       "    <tr>\n",
       "      <th>22001</th>\n",
       "      <td>volvo</td>\n",
       "      <td>I have requested a test drive. I will enjoy th...</td>\n",
       "    </tr>\n",
       "    <tr>\n",
       "      <th>22002</th>\n",
       "      <td>volvo</td>\n",
       "      <td>very nice for the money</td>\n",
       "    </tr>\n",
       "    <tr>\n",
       "      <th>22003</th>\n",
       "      <td>volvo</td>\n",
       "      <td>I was prejudiced before I bought it, after I b...</td>\n",
       "    </tr>\n",
       "    <tr>\n",
       "      <th>22004</th>\n",
       "      <td>volvo</td>\n",
       "      <td>Apart from its price and features, it stands o...</td>\n",
       "    </tr>\n",
       "  </tbody>\n",
       "</table>\n",
       "<p>22005 rows × 2 columns</p>\n",
       "</div>"
      ],
      "text/plain": [
       "      Araç Markası                                 ingilizce_yorumlar\n",
       "0       alfa romeo  at the moment i can afford a 2012 model, can i...\n",
       "1       alfa romeo  It may not have met the expectations of some, ...\n",
       "2       alfa romeo  nice car, top class, a bit porsche type, but m...\n",
       "3       alfa romeo  I wish there were other packages for this beau...\n",
       "4       alfa romeo  It is a type that I like in sedan vehicles and...\n",
       "...            ...                                                ...\n",
       "22000        volvo  A vehicle that deserves to receive 5 stars in ...\n",
       "22001        volvo  I have requested a test drive. I will enjoy th...\n",
       "22002        volvo                            very nice for the money\n",
       "22003        volvo  I was prejudiced before I bought it, after I b...\n",
       "22004        volvo  Apart from its price and features, it stands o...\n",
       "\n",
       "[22005 rows x 2 columns]"
      ]
     },
     "execution_count": 3,
     "metadata": {},
     "output_type": "execute_result"
    }
   ],
   "source": [
    "ingilizce_set=pd.read_csv(\"ingilizce.csv\")\n",
    "for index,cumle in enumerate(ingilizce_set[\"ingilizce_yorumlar\"]):\n",
    "    ingilizce_set[\"ingilizce_yorumlar\"][index]=re.sub('',\"\",str(cumle))\n",
    "ingilizce_set"
   ]
  },
  {
   "cell_type": "code",
   "execution_count": 4,
   "id": "8f598d78",
   "metadata": {},
   "outputs": [
    {
     "name": "stderr",
     "output_type": "stream",
     "text": [
      "[nltk_data] Downloading package stopwords to\n",
      "[nltk_data]     C:\\Users\\bahad\\AppData\\Roaming\\nltk_data...\n",
      "[nltk_data]   Package stopwords is already up-to-date!\n"
     ]
    },
    {
     "data": {
      "text/plain": [
       "True"
      ]
     },
     "execution_count": 4,
     "metadata": {},
     "output_type": "execute_result"
    }
   ],
   "source": [
    "##Stopwordsleri bulma işlemi\n",
    "import nltk\n",
    "from nltk.corpus import stopwords\n",
    "nltk.download(\"stopwords\")"
   ]
  },
  {
   "cell_type": "code",
   "execution_count": 5,
   "id": "16656995",
   "metadata": {},
   "outputs": [
    {
     "data": {
      "text/plain": [
       "{'a',\n",
       " 'about',\n",
       " 'above',\n",
       " 'after',\n",
       " 'again',\n",
       " 'against',\n",
       " 'ain',\n",
       " 'all',\n",
       " 'am',\n",
       " 'an',\n",
       " 'and',\n",
       " 'any',\n",
       " 'are',\n",
       " 'aren',\n",
       " \"aren't\",\n",
       " 'as',\n",
       " 'at',\n",
       " 'be',\n",
       " 'because',\n",
       " 'been',\n",
       " 'before',\n",
       " 'being',\n",
       " 'below',\n",
       " 'between',\n",
       " 'both',\n",
       " 'but',\n",
       " 'by',\n",
       " 'can',\n",
       " 'couldn',\n",
       " \"couldn't\",\n",
       " 'd',\n",
       " 'did',\n",
       " 'didn',\n",
       " \"didn't\",\n",
       " 'do',\n",
       " 'does',\n",
       " 'doesn',\n",
       " \"doesn't\",\n",
       " 'doing',\n",
       " 'don',\n",
       " \"don't\",\n",
       " 'down',\n",
       " 'during',\n",
       " 'each',\n",
       " 'few',\n",
       " 'for',\n",
       " 'from',\n",
       " 'further',\n",
       " 'had',\n",
       " 'hadn',\n",
       " \"hadn't\",\n",
       " 'has',\n",
       " 'hasn',\n",
       " \"hasn't\",\n",
       " 'have',\n",
       " 'haven',\n",
       " \"haven't\",\n",
       " 'having',\n",
       " 'he',\n",
       " 'her',\n",
       " 'here',\n",
       " 'hers',\n",
       " 'herself',\n",
       " 'him',\n",
       " 'himself',\n",
       " 'his',\n",
       " 'how',\n",
       " 'i',\n",
       " 'if',\n",
       " 'in',\n",
       " 'into',\n",
       " 'is',\n",
       " 'isn',\n",
       " \"isn't\",\n",
       " 'it',\n",
       " \"it's\",\n",
       " 'its',\n",
       " 'itself',\n",
       " 'just',\n",
       " 'll',\n",
       " 'm',\n",
       " 'ma',\n",
       " 'me',\n",
       " 'mightn',\n",
       " \"mightn't\",\n",
       " 'more',\n",
       " 'most',\n",
       " 'mustn',\n",
       " \"mustn't\",\n",
       " 'my',\n",
       " 'myself',\n",
       " 'needn',\n",
       " \"needn't\",\n",
       " 'no',\n",
       " 'nor',\n",
       " 'not',\n",
       " 'now',\n",
       " 'o',\n",
       " 'of',\n",
       " 'off',\n",
       " 'on',\n",
       " 'once',\n",
       " 'only',\n",
       " 'or',\n",
       " 'other',\n",
       " 'our',\n",
       " 'ours',\n",
       " 'ourselves',\n",
       " 'out',\n",
       " 'over',\n",
       " 'own',\n",
       " 're',\n",
       " 's',\n",
       " 'same',\n",
       " 'shan',\n",
       " \"shan't\",\n",
       " 'she',\n",
       " \"she's\",\n",
       " 'should',\n",
       " \"should've\",\n",
       " 'shouldn',\n",
       " \"shouldn't\",\n",
       " 'so',\n",
       " 'some',\n",
       " 'such',\n",
       " 't',\n",
       " 'than',\n",
       " 'that',\n",
       " \"that'll\",\n",
       " 'the',\n",
       " 'their',\n",
       " 'theirs',\n",
       " 'them',\n",
       " 'themselves',\n",
       " 'then',\n",
       " 'there',\n",
       " 'these',\n",
       " 'they',\n",
       " 'this',\n",
       " 'those',\n",
       " 'through',\n",
       " 'to',\n",
       " 'too',\n",
       " 'under',\n",
       " 'until',\n",
       " 'up',\n",
       " 've',\n",
       " 'very',\n",
       " 'was',\n",
       " 'wasn',\n",
       " \"wasn't\",\n",
       " 'we',\n",
       " 'were',\n",
       " 'weren',\n",
       " \"weren't\",\n",
       " 'what',\n",
       " 'when',\n",
       " 'where',\n",
       " 'which',\n",
       " 'while',\n",
       " 'who',\n",
       " 'whom',\n",
       " 'why',\n",
       " 'will',\n",
       " 'with',\n",
       " 'won',\n",
       " \"won't\",\n",
       " 'wouldn',\n",
       " \"wouldn't\",\n",
       " 'y',\n",
       " 'you',\n",
       " \"you'd\",\n",
       " \"you'll\",\n",
       " \"you're\",\n",
       " \"you've\",\n",
       " 'your',\n",
       " 'yours',\n",
       " 'yourself',\n",
       " 'yourselves'}"
      ]
     },
     "execution_count": 5,
     "metadata": {},
     "output_type": "execute_result"
    }
   ],
   "source": [
    "swords=set(stopwords.words(\"english\"))\n",
    "swords"
   ]
  },
  {
   "cell_type": "code",
   "execution_count": 6,
   "id": "f807e49f",
   "metadata": {
    "scrolled": true
   },
   "outputs": [
    {
     "name": "stdout",
     "output_type": "stream",
     "text": [
      "['at', 'the', 'moment', 'i', 'can', 'afford', 'a', '2012', 'model,', 'can', 'i', 'buy', 'it', 'or', 'do', 'they', 'have', 'any', 'chronic', 'problems?']  Kelime Sayısı :  20\n"
     ]
    }
   ],
   "source": [
    "ornek_metin = ingilizce_set[\"ingilizce_yorumlar\"][0]\n",
    "ornek_metin=ornek_metin.split()\n",
    "print(ornek_metin,\" Kelime Sayısı : \",len(ornek_metin))"
   ]
  },
  {
   "cell_type": "code",
   "execution_count": 7,
   "id": "e0d61ab1",
   "metadata": {},
   "outputs": [
    {
     "name": "stdout",
     "output_type": "stream",
     "text": [
      "['moment', 'afford', '2012', 'model,', 'buy', 'chronic', 'problems?']  Kelime Sayısı :  7\n"
     ]
    }
   ],
   "source": [
    "swords=set(stopwords.words(\"english\"))\n",
    "ornek_metin=[w for w in ornek_metin if w not in swords]\n",
    "print(ornek_metin,\" Kelime Sayısı : \",len(ornek_metin))"
   ]
  },
  {
   "cell_type": "code",
   "execution_count": 8,
   "id": "165d2a77",
   "metadata": {},
   "outputs": [],
   "source": [
    "def temizlemeislemi(review):\n",
    "    review=review.split()\n",
    "    swords=set(stopwords.words(\"english\"))\n",
    "    review=[w for w in review if w not in swords]\n",
    "    return (\" \".join(review))"
   ]
  },
  {
   "cell_type": "code",
   "execution_count": 9,
   "id": "08443a4c",
   "metadata": {},
   "outputs": [
    {
     "name": "stdout",
     "output_type": "stream",
     "text": [
      "İşlem Adımı 22000\n"
     ]
    }
   ],
   "source": [
    "from IPython.display import clear_output\n",
    "train_x=[]\n",
    "for i in range(len(ingilizce_set[\"ingilizce_yorumlar\"])):\n",
    "    if(i+1)%1000==0:\n",
    "        clear_output(wait=True)\n",
    "        print(\"İşlem Adımı\",i+1)\n",
    "    train_x.append(temizlemeislemi(ingilizce_set[\"ingilizce_yorumlar\"][i]))"
   ]
  },
  {
   "cell_type": "code",
   "execution_count": 10,
   "id": "5a62260c",
   "metadata": {},
   "outputs": [],
   "source": [
    "ingilizce_set.drop(['ingilizce_yorumlar'], axis=1, inplace=True)"
   ]
  },
  {
   "cell_type": "code",
   "execution_count": 11,
   "id": "1561f573",
   "metadata": {},
   "outputs": [],
   "source": [
    "ingilizce_set[\"no_stopwords_comment\"]=train_x"
   ]
  },
  {
   "cell_type": "code",
   "execution_count": 12,
   "id": "ee5f3d7e",
   "metadata": {},
   "outputs": [
    {
     "data": {
      "text/html": [
       "<div>\n",
       "<style scoped>\n",
       "    .dataframe tbody tr th:only-of-type {\n",
       "        vertical-align: middle;\n",
       "    }\n",
       "\n",
       "    .dataframe tbody tr th {\n",
       "        vertical-align: top;\n",
       "    }\n",
       "\n",
       "    .dataframe thead th {\n",
       "        text-align: right;\n",
       "    }\n",
       "</style>\n",
       "<table border=\"1\" class=\"dataframe\">\n",
       "  <thead>\n",
       "    <tr style=\"text-align: right;\">\n",
       "      <th></th>\n",
       "      <th>Araç Markası</th>\n",
       "      <th>no_stopwords_comment</th>\n",
       "    </tr>\n",
       "  </thead>\n",
       "  <tbody>\n",
       "    <tr>\n",
       "      <th>0</th>\n",
       "      <td>alfa romeo</td>\n",
       "      <td>moment afford 2012 model, buy chronic problems?</td>\n",
       "    </tr>\n",
       "    <tr>\n",
       "      <th>1</th>\n",
       "      <td>alfa romeo</td>\n",
       "      <td>It may met expectations some, someone used Ger...</td>\n",
       "    </tr>\n",
       "    <tr>\n",
       "      <th>2</th>\n",
       "      <td>alfa romeo</td>\n",
       "      <td>nice car, top class, bit porsche type, maserat...</td>\n",
       "    </tr>\n",
       "    <tr>\n",
       "      <th>3</th>\n",
       "      <td>alfa romeo</td>\n",
       "      <td>I wish packages beautiful vehicle</td>\n",
       "    </tr>\n",
       "    <tr>\n",
       "      <th>4</th>\n",
       "      <td>alfa romeo</td>\n",
       "      <td>It type I like sedan vehicles interior volume ...</td>\n",
       "    </tr>\n",
       "    <tr>\n",
       "      <th>...</th>\n",
       "      <td>...</td>\n",
       "      <td>...</td>\n",
       "    </tr>\n",
       "    <tr>\n",
       "      <th>22000</th>\n",
       "      <td>volvo</td>\n",
       "      <td>A vehicle deserves receive 5 stars euro ncap t...</td>\n",
       "    </tr>\n",
       "    <tr>\n",
       "      <th>22001</th>\n",
       "      <td>volvo</td>\n",
       "      <td>I requested test drive. I enjoy ride next week...</td>\n",
       "    </tr>\n",
       "    <tr>\n",
       "      <th>22002</th>\n",
       "      <td>volvo</td>\n",
       "      <td>nice money</td>\n",
       "    </tr>\n",
       "    <tr>\n",
       "      <th>22003</th>\n",
       "      <td>volvo</td>\n",
       "      <td>I prejudiced I bought it, I bought it, questio...</td>\n",
       "    </tr>\n",
       "    <tr>\n",
       "      <th>22004</th>\n",
       "      <td>volvo</td>\n",
       "      <td>Apart price features, stands vehicles class ac...</td>\n",
       "    </tr>\n",
       "  </tbody>\n",
       "</table>\n",
       "<p>22005 rows × 2 columns</p>\n",
       "</div>"
      ],
      "text/plain": [
       "      Araç Markası                               no_stopwords_comment\n",
       "0       alfa romeo    moment afford 2012 model, buy chronic problems?\n",
       "1       alfa romeo  It may met expectations some, someone used Ger...\n",
       "2       alfa romeo  nice car, top class, bit porsche type, maserat...\n",
       "3       alfa romeo                  I wish packages beautiful vehicle\n",
       "4       alfa romeo  It type I like sedan vehicles interior volume ...\n",
       "...            ...                                                ...\n",
       "22000        volvo  A vehicle deserves receive 5 stars euro ncap t...\n",
       "22001        volvo  I requested test drive. I enjoy ride next week...\n",
       "22002        volvo                                         nice money\n",
       "22003        volvo  I prejudiced I bought it, I bought it, questio...\n",
       "22004        volvo  Apart price features, stands vehicles class ac...\n",
       "\n",
       "[22005 rows x 2 columns]"
      ]
     },
     "execution_count": 12,
     "metadata": {},
     "output_type": "execute_result"
    }
   ],
   "source": [
    "ingilizce_set"
   ]
  },
  {
   "cell_type": "code",
   "execution_count": 17,
   "id": "810ec232",
   "metadata": {},
   "outputs": [
    {
     "data": {
      "text/html": [
       "<div>\n",
       "<style scoped>\n",
       "    .dataframe tbody tr th:only-of-type {\n",
       "        vertical-align: middle;\n",
       "    }\n",
       "\n",
       "    .dataframe tbody tr th {\n",
       "        vertical-align: top;\n",
       "    }\n",
       "\n",
       "    .dataframe thead th {\n",
       "        text-align: right;\n",
       "    }\n",
       "</style>\n",
       "<table border=\"1\" class=\"dataframe\">\n",
       "  <thead>\n",
       "    <tr style=\"text-align: right;\">\n",
       "      <th></th>\n",
       "      <th>Araç Markası</th>\n",
       "      <th>no_stopwords_comment</th>\n",
       "      <th>text_blob_sonuc</th>\n",
       "    </tr>\n",
       "  </thead>\n",
       "  <tbody>\n",
       "    <tr>\n",
       "      <th>0</th>\n",
       "      <td>alfa romeo</td>\n",
       "      <td>moment afford 2012 model, buy chronic problems?</td>\n",
       "      <td>0.000000</td>\n",
       "    </tr>\n",
       "    <tr>\n",
       "      <th>1</th>\n",
       "      <td>alfa romeo</td>\n",
       "      <td>It may met expectations some, someone used Ger...</td>\n",
       "      <td>0.000000</td>\n",
       "    </tr>\n",
       "    <tr>\n",
       "      <th>2</th>\n",
       "      <td>alfa romeo</td>\n",
       "      <td>nice car, top class, bit porsche type, maserat...</td>\n",
       "      <td>0.550000</td>\n",
       "    </tr>\n",
       "    <tr>\n",
       "      <th>3</th>\n",
       "      <td>alfa romeo</td>\n",
       "      <td>I wish packages beautiful vehicle</td>\n",
       "      <td>0.850000</td>\n",
       "    </tr>\n",
       "    <tr>\n",
       "      <th>4</th>\n",
       "      <td>alfa romeo</td>\n",
       "      <td>It type I like sedan vehicles interior volume ...</td>\n",
       "      <td>0.214286</td>\n",
       "    </tr>\n",
       "    <tr>\n",
       "      <th>...</th>\n",
       "      <td>...</td>\n",
       "      <td>...</td>\n",
       "      <td>...</td>\n",
       "    </tr>\n",
       "    <tr>\n",
       "      <th>22000</th>\n",
       "      <td>volvo</td>\n",
       "      <td>A vehicle deserves receive 5 stars euro ncap t...</td>\n",
       "      <td>0.000000</td>\n",
       "    </tr>\n",
       "    <tr>\n",
       "      <th>22001</th>\n",
       "      <td>volvo</td>\n",
       "      <td>I requested test drive. I enjoy ride next week...</td>\n",
       "      <td>0.200000</td>\n",
       "    </tr>\n",
       "    <tr>\n",
       "      <th>22002</th>\n",
       "      <td>volvo</td>\n",
       "      <td>nice money</td>\n",
       "      <td>0.600000</td>\n",
       "    </tr>\n",
       "    <tr>\n",
       "      <th>22003</th>\n",
       "      <td>volvo</td>\n",
       "      <td>I prejudiced I bought it, I bought it, questio...</td>\n",
       "      <td>0.000000</td>\n",
       "    </tr>\n",
       "    <tr>\n",
       "      <th>22004</th>\n",
       "      <td>volvo</td>\n",
       "      <td>Apart price features, stands vehicles class ac...</td>\n",
       "      <td>0.000000</td>\n",
       "    </tr>\n",
       "  </tbody>\n",
       "</table>\n",
       "<p>22005 rows × 3 columns</p>\n",
       "</div>"
      ],
      "text/plain": [
       "      Araç Markası                               no_stopwords_comment  \\\n",
       "0       alfa romeo    moment afford 2012 model, buy chronic problems?   \n",
       "1       alfa romeo  It may met expectations some, someone used Ger...   \n",
       "2       alfa romeo  nice car, top class, bit porsche type, maserat...   \n",
       "3       alfa romeo                  I wish packages beautiful vehicle   \n",
       "4       alfa romeo  It type I like sedan vehicles interior volume ...   \n",
       "...            ...                                                ...   \n",
       "22000        volvo  A vehicle deserves receive 5 stars euro ncap t...   \n",
       "22001        volvo  I requested test drive. I enjoy ride next week...   \n",
       "22002        volvo                                         nice money   \n",
       "22003        volvo  I prejudiced I bought it, I bought it, questio...   \n",
       "22004        volvo  Apart price features, stands vehicles class ac...   \n",
       "\n",
       "       text_blob_sonuc  \n",
       "0             0.000000  \n",
       "1             0.000000  \n",
       "2             0.550000  \n",
       "3             0.850000  \n",
       "4             0.214286  \n",
       "...                ...  \n",
       "22000         0.000000  \n",
       "22001         0.200000  \n",
       "22002         0.600000  \n",
       "22003         0.000000  \n",
       "22004         0.000000  \n",
       "\n",
       "[22005 rows x 3 columns]"
      ]
     },
     "execution_count": 17,
     "metadata": {},
     "output_type": "execute_result"
    }
   ],
   "source": [
    "##TEXT BLOB KULLANARAK ------- RandomForestClassifier\n",
    "from textblob import TextBlob\n",
    "ingilizce_set[\"text_blob_sonuc\"]=ingilizce_set[\"no_stopwords_comment\"].map(lambda x:TextBlob(x).sentiment.polarity)\n",
    "ingilizce_set"
   ]
  },
  {
   "cell_type": "code",
   "execution_count": 18,
   "id": "9a6b89f6",
   "metadata": {},
   "outputs": [],
   "source": [
    "for i in ingilizce_set[\"text_blob_sonuc\"]:\n",
    "    if(i<0):\n",
    "        ingilizce_set[\"text_blob_sonuc\"].replace(to_replace=i,value=\"0\",inplace=True)\n",
    "    elif(i>=0):\n",
    "        ingilizce_set[\"text_blob_sonuc\"].replace(to_replace=i,value=\"1\",inplace=True)"
   ]
  },
  {
   "cell_type": "code",
   "execution_count": 19,
   "id": "e063abfa",
   "metadata": {},
   "outputs": [
    {
     "data": {
      "text/html": [
       "<div>\n",
       "<style scoped>\n",
       "    .dataframe tbody tr th:only-of-type {\n",
       "        vertical-align: middle;\n",
       "    }\n",
       "\n",
       "    .dataframe tbody tr th {\n",
       "        vertical-align: top;\n",
       "    }\n",
       "\n",
       "    .dataframe thead th {\n",
       "        text-align: right;\n",
       "    }\n",
       "</style>\n",
       "<table border=\"1\" class=\"dataframe\">\n",
       "  <thead>\n",
       "    <tr style=\"text-align: right;\">\n",
       "      <th></th>\n",
       "      <th>Araç Markası</th>\n",
       "      <th>no_stopwords_comment</th>\n",
       "      <th>text_blob_sonuc</th>\n",
       "    </tr>\n",
       "  </thead>\n",
       "  <tbody>\n",
       "    <tr>\n",
       "      <th>21987</th>\n",
       "      <td>volvo</td>\n",
       "      <td>When I bought car, everyone around said car ca...</td>\n",
       "      <td>1</td>\n",
       "    </tr>\n",
       "    <tr>\n",
       "      <th>21988</th>\n",
       "      <td>volvo</td>\n",
       "      <td>volvo's vehicles similar other, friend</td>\n",
       "      <td>0</td>\n",
       "    </tr>\n",
       "    <tr>\n",
       "      <th>21989</th>\n",
       "      <td>volvo</td>\n",
       "      <td>solid also strong vehicle, I say solid cars.</td>\n",
       "      <td>1</td>\n",
       "    </tr>\n",
       "    <tr>\n",
       "      <th>21990</th>\n",
       "      <td>volvo</td>\n",
       "      <td>dream car, it'll favor I save buy car, they're...</td>\n",
       "      <td>1</td>\n",
       "    </tr>\n",
       "    <tr>\n",
       "      <th>21991</th>\n",
       "      <td>volvo</td>\n",
       "      <td>family car dreams, fill children, take long tr...</td>\n",
       "      <td>1</td>\n",
       "    </tr>\n",
       "    <tr>\n",
       "      <th>21992</th>\n",
       "      <td>volvo</td>\n",
       "      <td>brand expensive solid image</td>\n",
       "      <td>0</td>\n",
       "    </tr>\n",
       "    <tr>\n",
       "      <th>21993</th>\n",
       "      <td>volvo</td>\n",
       "      <td>volvo makes solid vehicle, friend</td>\n",
       "      <td>1</td>\n",
       "    </tr>\n",
       "    <tr>\n",
       "      <th>21994</th>\n",
       "      <td>volvo</td>\n",
       "      <td>solid vehicle mashallah</td>\n",
       "      <td>1</td>\n",
       "    </tr>\n",
       "    <tr>\n",
       "      <th>21995</th>\n",
       "      <td>volvo</td>\n",
       "      <td>one cars reflect solidity image</td>\n",
       "      <td>1</td>\n",
       "    </tr>\n",
       "    <tr>\n",
       "      <th>21996</th>\n",
       "      <td>volvo</td>\n",
       "      <td>If want speed, safety, economical fuel high pe...</td>\n",
       "      <td>1</td>\n",
       "    </tr>\n",
       "    <tr>\n",
       "      <th>21997</th>\n",
       "      <td>volvo</td>\n",
       "      <td>If going buy diesel model, I say economical you.</td>\n",
       "      <td>1</td>\n",
       "    </tr>\n",
       "    <tr>\n",
       "      <th>21998</th>\n",
       "      <td>volvo</td>\n",
       "      <td>comes durability, name immediately comes mind ...</td>\n",
       "      <td>1</td>\n",
       "    </tr>\n",
       "    <tr>\n",
       "      <th>21999</th>\n",
       "      <td>volvo</td>\n",
       "      <td>The suspension system successful, feel vibrati...</td>\n",
       "      <td>1</td>\n",
       "    </tr>\n",
       "    <tr>\n",
       "      <th>22000</th>\n",
       "      <td>volvo</td>\n",
       "      <td>A vehicle deserves receive 5 stars euro ncap t...</td>\n",
       "      <td>1</td>\n",
       "    </tr>\n",
       "    <tr>\n",
       "      <th>22001</th>\n",
       "      <td>volvo</td>\n",
       "      <td>I requested test drive. I enjoy ride next week...</td>\n",
       "      <td>1</td>\n",
       "    </tr>\n",
       "    <tr>\n",
       "      <th>22002</th>\n",
       "      <td>volvo</td>\n",
       "      <td>nice money</td>\n",
       "      <td>1</td>\n",
       "    </tr>\n",
       "    <tr>\n",
       "      <th>22003</th>\n",
       "      <td>volvo</td>\n",
       "      <td>I prejudiced I bought it, I bought it, questio...</td>\n",
       "      <td>1</td>\n",
       "    </tr>\n",
       "    <tr>\n",
       "      <th>22004</th>\n",
       "      <td>volvo</td>\n",
       "      <td>Apart price features, stands vehicles class ac...</td>\n",
       "      <td>1</td>\n",
       "    </tr>\n",
       "  </tbody>\n",
       "</table>\n",
       "</div>"
      ],
      "text/plain": [
       "      Araç Markası                               no_stopwords_comment  \\\n",
       "21987        volvo  When I bought car, everyone around said car ca...   \n",
       "21988        volvo             volvo's vehicles similar other, friend   \n",
       "21989        volvo       solid also strong vehicle, I say solid cars.   \n",
       "21990        volvo  dream car, it'll favor I save buy car, they're...   \n",
       "21991        volvo  family car dreams, fill children, take long tr...   \n",
       "21992        volvo                        brand expensive solid image   \n",
       "21993        volvo                  volvo makes solid vehicle, friend   \n",
       "21994        volvo                            solid vehicle mashallah   \n",
       "21995        volvo                    one cars reflect solidity image   \n",
       "21996        volvo  If want speed, safety, economical fuel high pe...   \n",
       "21997        volvo   If going buy diesel model, I say economical you.   \n",
       "21998        volvo  comes durability, name immediately comes mind ...   \n",
       "21999        volvo  The suspension system successful, feel vibrati...   \n",
       "22000        volvo  A vehicle deserves receive 5 stars euro ncap t...   \n",
       "22001        volvo  I requested test drive. I enjoy ride next week...   \n",
       "22002        volvo                                         nice money   \n",
       "22003        volvo  I prejudiced I bought it, I bought it, questio...   \n",
       "22004        volvo  Apart price features, stands vehicles class ac...   \n",
       "\n",
       "      text_blob_sonuc  \n",
       "21987               1  \n",
       "21988               0  \n",
       "21989               1  \n",
       "21990               1  \n",
       "21991               1  \n",
       "21992               0  \n",
       "21993               1  \n",
       "21994               1  \n",
       "21995               1  \n",
       "21996               1  \n",
       "21997               1  \n",
       "21998               1  \n",
       "21999               1  \n",
       "22000               1  \n",
       "22001               1  \n",
       "22002               1  \n",
       "22003               1  \n",
       "22004               1  "
      ]
     },
     "execution_count": 19,
     "metadata": {},
     "output_type": "execute_result"
    }
   ],
   "source": [
    "ingilizce_set[\"text_blob_sonuc\"].value_counts()\n",
    "ingilizce_set.tail(18)"
   ]
  },
  {
   "cell_type": "code",
   "execution_count": 29,
   "id": "86c4ff28",
   "metadata": {},
   "outputs": [],
   "source": [
    "##degisken=pd.crosstab(ingilizce_set[\"Araç Markası\"],ingilizce_set[\"text_blob_sonuc\"]).apply(lambda r:r/r.sum(),axis=1)\n",
    "##degisken.sort_values(by='0', ascending=False)"
   ]
  },
  {
   "cell_type": "code",
   "execution_count": 22,
   "id": "1d32bf13",
   "metadata": {},
   "outputs": [],
   "source": [
    "from sklearn.model_selection import train_test_split\n",
    "x=train_x\n",
    "y=np.array(ingilizce_set[\"text_blob_sonuc\"])\n",
    "train_1,test_1,train_2,test_2=train_test_split(x,y,test_size=0.15,random_state=42)"
   ]
  },
  {
   "cell_type": "code",
   "execution_count": 23,
   "id": "bddd095f",
   "metadata": {},
   "outputs": [
    {
     "data": {
      "text/plain": [
       "<18704x5000 sparse matrix of type '<class 'numpy.int64'>'\n",
       "\twith 192596 stored elements in Compressed Sparse Row format>"
      ]
     },
     "execution_count": 23,
     "metadata": {},
     "output_type": "execute_result"
    }
   ],
   "source": [
    "from sklearn.feature_extraction.text import CountVectorizer\n",
    "vectorizer =CountVectorizer(max_features=5000)\n",
    "train_x1=vectorizer.fit_transform(train_1)\n",
    "train_x1"
   ]
  },
  {
   "cell_type": "code",
   "execution_count": 24,
   "id": "f308aa41",
   "metadata": {},
   "outputs": [],
   "source": [
    "train_x1=train_x1.toarray()"
   ]
  },
  {
   "cell_type": "code",
   "execution_count": 25,
   "id": "f1dcf825",
   "metadata": {},
   "outputs": [
    {
     "data": {
      "text/plain": [
       "((18704, 5000), (18704,))"
      ]
     },
     "execution_count": 25,
     "metadata": {},
     "output_type": "execute_result"
    }
   ],
   "source": [
    "train_x1.shape,train_2.shape"
   ]
  },
  {
   "cell_type": "code",
   "execution_count": 26,
   "id": "f4c6a207",
   "metadata": {},
   "outputs": [
    {
     "data": {
      "text/html": [
       "<style>#sk-container-id-1 {color: black;background-color: white;}#sk-container-id-1 pre{padding: 0;}#sk-container-id-1 div.sk-toggleable {background-color: white;}#sk-container-id-1 label.sk-toggleable__label {cursor: pointer;display: block;width: 100%;margin-bottom: 0;padding: 0.3em;box-sizing: border-box;text-align: center;}#sk-container-id-1 label.sk-toggleable__label-arrow:before {content: \"▸\";float: left;margin-right: 0.25em;color: #696969;}#sk-container-id-1 label.sk-toggleable__label-arrow:hover:before {color: black;}#sk-container-id-1 div.sk-estimator:hover label.sk-toggleable__label-arrow:before {color: black;}#sk-container-id-1 div.sk-toggleable__content {max-height: 0;max-width: 0;overflow: hidden;text-align: left;background-color: #f0f8ff;}#sk-container-id-1 div.sk-toggleable__content pre {margin: 0.2em;color: black;border-radius: 0.25em;background-color: #f0f8ff;}#sk-container-id-1 input.sk-toggleable__control:checked~div.sk-toggleable__content {max-height: 200px;max-width: 100%;overflow: auto;}#sk-container-id-1 input.sk-toggleable__control:checked~label.sk-toggleable__label-arrow:before {content: \"▾\";}#sk-container-id-1 div.sk-estimator input.sk-toggleable__control:checked~label.sk-toggleable__label {background-color: #d4ebff;}#sk-container-id-1 div.sk-label input.sk-toggleable__control:checked~label.sk-toggleable__label {background-color: #d4ebff;}#sk-container-id-1 input.sk-hidden--visually {border: 0;clip: rect(1px 1px 1px 1px);clip: rect(1px, 1px, 1px, 1px);height: 1px;margin: -1px;overflow: hidden;padding: 0;position: absolute;width: 1px;}#sk-container-id-1 div.sk-estimator {font-family: monospace;background-color: #f0f8ff;border: 1px dotted black;border-radius: 0.25em;box-sizing: border-box;margin-bottom: 0.5em;}#sk-container-id-1 div.sk-estimator:hover {background-color: #d4ebff;}#sk-container-id-1 div.sk-parallel-item::after {content: \"\";width: 100%;border-bottom: 1px solid gray;flex-grow: 1;}#sk-container-id-1 div.sk-label:hover label.sk-toggleable__label {background-color: #d4ebff;}#sk-container-id-1 div.sk-serial::before {content: \"\";position: absolute;border-left: 1px solid gray;box-sizing: border-box;top: 0;bottom: 0;left: 50%;z-index: 0;}#sk-container-id-1 div.sk-serial {display: flex;flex-direction: column;align-items: center;background-color: white;padding-right: 0.2em;padding-left: 0.2em;position: relative;}#sk-container-id-1 div.sk-item {position: relative;z-index: 1;}#sk-container-id-1 div.sk-parallel {display: flex;align-items: stretch;justify-content: center;background-color: white;position: relative;}#sk-container-id-1 div.sk-item::before, #sk-container-id-1 div.sk-parallel-item::before {content: \"\";position: absolute;border-left: 1px solid gray;box-sizing: border-box;top: 0;bottom: 0;left: 50%;z-index: -1;}#sk-container-id-1 div.sk-parallel-item {display: flex;flex-direction: column;z-index: 1;position: relative;background-color: white;}#sk-container-id-1 div.sk-parallel-item:first-child::after {align-self: flex-end;width: 50%;}#sk-container-id-1 div.sk-parallel-item:last-child::after {align-self: flex-start;width: 50%;}#sk-container-id-1 div.sk-parallel-item:only-child::after {width: 0;}#sk-container-id-1 div.sk-dashed-wrapped {border: 1px dashed gray;margin: 0 0.4em 0.5em 0.4em;box-sizing: border-box;padding-bottom: 0.4em;background-color: white;}#sk-container-id-1 div.sk-label label {font-family: monospace;font-weight: bold;display: inline-block;line-height: 1.2em;}#sk-container-id-1 div.sk-label-container {text-align: center;}#sk-container-id-1 div.sk-container {/* jupyter's `normalize.less` sets `[hidden] { display: none; }` but bootstrap.min.css set `[hidden] { display: none !important; }` so we also need the `!important` here to be able to override the default hidden behavior on the sphinx rendered scikit-learn.org. See: https://github.com/scikit-learn/scikit-learn/issues/21755 */display: inline-block !important;position: relative;}#sk-container-id-1 div.sk-text-repr-fallback {display: none;}</style><div id=\"sk-container-id-1\" class=\"sk-top-container\"><div class=\"sk-text-repr-fallback\"><pre>RandomForestClassifier()</pre><b>In a Jupyter environment, please rerun this cell to show the HTML representation or trust the notebook. <br />On GitHub, the HTML representation is unable to render, please try loading this page with nbviewer.org.</b></div><div class=\"sk-container\" hidden><div class=\"sk-item\"><div class=\"sk-estimator sk-toggleable\"><input class=\"sk-toggleable__control sk-hidden--visually\" id=\"sk-estimator-id-1\" type=\"checkbox\" checked><label for=\"sk-estimator-id-1\" class=\"sk-toggleable__label sk-toggleable__label-arrow\">RandomForestClassifier</label><div class=\"sk-toggleable__content\"><pre>RandomForestClassifier()</pre></div></div></div></div></div>"
      ],
      "text/plain": [
       "RandomForestClassifier()"
      ]
     },
     "execution_count": 26,
     "metadata": {},
     "output_type": "execute_result"
    }
   ],
   "source": [
    "from sklearn.ensemble import RandomForestClassifier\n",
    "rf=RandomForestClassifier(n_estimators=100)\n",
    "rf.fit(train_x1,train_2)"
   ]
  },
  {
   "cell_type": "code",
   "execution_count": 27,
   "id": "96f08292",
   "metadata": {},
   "outputs": [],
   "source": [
    "test_x1=vectorizer.transform(test_1)"
   ]
  },
  {
   "cell_type": "code",
   "execution_count": 28,
   "id": "d0da1cac",
   "metadata": {},
   "outputs": [
    {
     "data": {
      "text/plain": [
       "<3301x5000 sparse matrix of type '<class 'numpy.int64'>'\n",
       "\twith 33764 stored elements in Compressed Sparse Row format>"
      ]
     },
     "execution_count": 28,
     "metadata": {},
     "output_type": "execute_result"
    }
   ],
   "source": [
    "test_x1"
   ]
  },
  {
   "cell_type": "code",
   "execution_count": 29,
   "id": "b6e39939",
   "metadata": {},
   "outputs": [
    {
     "data": {
      "text/plain": [
       "0.8383193230373949"
      ]
     },
     "execution_count": 29,
     "metadata": {},
     "output_type": "execute_result"
    }
   ],
   "source": [
    "from sklearn.metrics import roc_auc_score\n",
    "test_predict=rf.predict(test_x1)\n",
    "dogruluk=roc_auc_score(test_2,test_predict)\n",
    "dogruluk"
   ]
  },
  {
   "cell_type": "code",
   "execution_count": 30,
   "id": "090a603c",
   "metadata": {},
   "outputs": [
    {
     "name": "stdout",
     "output_type": "stream",
     "text": [
      "              precision    recall  f1-score   support\n",
      "\n",
      "           0       0.76      0.70      0.73       366\n",
      "           1       0.96      0.97      0.97      2935\n",
      "\n",
      "    accuracy                           0.94      3301\n",
      "   macro avg       0.86      0.84      0.85      3301\n",
      "weighted avg       0.94      0.94      0.94      3301\n",
      "\n"
     ]
    }
   ],
   "source": [
    "from sklearn.metrics import classification_report\n",
    "print(classification_report(test_2,test_predict))\n",
    " "
   ]
  },
  {
   "cell_type": "code",
   "execution_count": 1,
   "id": "db8ee3bf",
   "metadata": {},
   "outputs": [
    {
     "name": "stdout",
     "output_type": "stream",
     "text": [
      "\n"
     ]
    }
   ],
   "source": [
    "markalar=[]\n",
    "cumleler=[]\n",
    "for index,cumle in enumerate(test_1):\n",
    "    for sayac,asilcumle in enumerate(ingilizce_set[\"no_stopwords_comment\"]):\n",
    "        kontrol=0\n",
    "        cumleler.append(cumle)\n",
    "        for x in cumleler:\n",
    "            if(x==cumle):\n",
    "                kontrol=kontrol+1\n",
    "        if(kontrol==0):\n",
    "            if(cumle==asilcumle):\n",
    "                  markalar.append(ingilizce_set[\"Araç Markası\"][sayac])"
   ]
  },
  {
   "cell_type": "code",
   "execution_count": 33,
   "id": "0220ebae",
   "metadata": {},
   "outputs": [
    {
     "data": {
      "text/plain": [
       "3301"
      ]
     },
     "execution_count": 33,
     "metadata": {},
     "output_type": "execute_result"
    }
   ],
   "source": [
    "len(test_1)"
   ]
  },
  {
   "cell_type": "code",
   "execution_count": 221,
   "id": "b87aec38",
   "metadata": {},
   "outputs": [
    {
     "data": {
      "text/html": [
       "<div>\n",
       "<style scoped>\n",
       "    .dataframe tbody tr th:only-of-type {\n",
       "        vertical-align: middle;\n",
       "    }\n",
       "\n",
       "    .dataframe tbody tr th {\n",
       "        vertical-align: top;\n",
       "    }\n",
       "\n",
       "    .dataframe thead th {\n",
       "        text-align: right;\n",
       "    }\n",
       "</style>\n",
       "<table border=\"1\" class=\"dataframe\">\n",
       "  <thead>\n",
       "    <tr style=\"text-align: right;\">\n",
       "      <th></th>\n",
       "      <th>Araç Markası</th>\n",
       "      <th>no_stopwords_comment</th>\n",
       "      <th>vader_sonuc</th>\n",
       "    </tr>\n",
       "  </thead>\n",
       "  <tbody>\n",
       "    <tr>\n",
       "      <th>0</th>\n",
       "      <td>alfa romeo</td>\n",
       "      <td>moment afford 2012 model, buy chronic problems?</td>\n",
       "      <td>0</td>\n",
       "    </tr>\n",
       "    <tr>\n",
       "      <th>1</th>\n",
       "      <td>alfa romeo</td>\n",
       "      <td>It may met expectations some, someone used Ger...</td>\n",
       "      <td>1</td>\n",
       "    </tr>\n",
       "    <tr>\n",
       "      <th>2</th>\n",
       "      <td>alfa romeo</td>\n",
       "      <td>nice car, top class, bit porsche type, maserat...</td>\n",
       "      <td>1</td>\n",
       "    </tr>\n",
       "    <tr>\n",
       "      <th>3</th>\n",
       "      <td>alfa romeo</td>\n",
       "      <td>I wish packages beautiful vehicle</td>\n",
       "      <td>1</td>\n",
       "    </tr>\n",
       "    <tr>\n",
       "      <th>4</th>\n",
       "      <td>alfa romeo</td>\n",
       "      <td>It type I like sedan vehicles interior volume ...</td>\n",
       "      <td>1</td>\n",
       "    </tr>\n",
       "    <tr>\n",
       "      <th>...</th>\n",
       "      <td>...</td>\n",
       "      <td>...</td>\n",
       "      <td>...</td>\n",
       "    </tr>\n",
       "    <tr>\n",
       "      <th>22000</th>\n",
       "      <td>volvo</td>\n",
       "      <td>A vehicle deserves receive 5 stars euro ncap t...</td>\n",
       "      <td>0</td>\n",
       "    </tr>\n",
       "    <tr>\n",
       "      <th>22001</th>\n",
       "      <td>volvo</td>\n",
       "      <td>I requested test drive. I enjoy ride next week...</td>\n",
       "      <td>1</td>\n",
       "    </tr>\n",
       "    <tr>\n",
       "      <th>22002</th>\n",
       "      <td>volvo</td>\n",
       "      <td>nice money</td>\n",
       "      <td>1</td>\n",
       "    </tr>\n",
       "    <tr>\n",
       "      <th>22003</th>\n",
       "      <td>volvo</td>\n",
       "      <td>I prejudiced I bought it, I bought it, questio...</td>\n",
       "      <td>0</td>\n",
       "    </tr>\n",
       "    <tr>\n",
       "      <th>22004</th>\n",
       "      <td>volvo</td>\n",
       "      <td>Apart price features, stands vehicles class ac...</td>\n",
       "      <td>0</td>\n",
       "    </tr>\n",
       "  </tbody>\n",
       "</table>\n",
       "<p>22005 rows × 3 columns</p>\n",
       "</div>"
      ],
      "text/plain": [
       "      Araç Markası                               no_stopwords_comment  \\\n",
       "0       alfa romeo    moment afford 2012 model, buy chronic problems?   \n",
       "1       alfa romeo  It may met expectations some, someone used Ger...   \n",
       "2       alfa romeo  nice car, top class, bit porsche type, maserat...   \n",
       "3       alfa romeo                  I wish packages beautiful vehicle   \n",
       "4       alfa romeo  It type I like sedan vehicles interior volume ...   \n",
       "...            ...                                                ...   \n",
       "22000        volvo  A vehicle deserves receive 5 stars euro ncap t...   \n",
       "22001        volvo  I requested test drive. I enjoy ride next week...   \n",
       "22002        volvo                                         nice money   \n",
       "22003        volvo  I prejudiced I bought it, I bought it, questio...   \n",
       "22004        volvo  Apart price features, stands vehicles class ac...   \n",
       "\n",
       "      vader_sonuc  \n",
       "0               0  \n",
       "1               1  \n",
       "2               1  \n",
       "3               1  \n",
       "4               1  \n",
       "...           ...  \n",
       "22000           0  \n",
       "22001           1  \n",
       "22002           1  \n",
       "22003           0  \n",
       "22004           0  \n",
       "\n",
       "[22005 rows x 3 columns]"
      ]
     },
     "execution_count": 221,
     "metadata": {},
     "output_type": "execute_result"
    }
   ],
   "source": [
    "## VADER MODÜLÜ KULLANARAK  -------- KNeighborsClassifier\n",
    "ingilizce_set.drop(['text_blob_sonuc'], axis=1, inplace=True)\n",
    "from vaderSentiment.vaderSentiment import SentimentIntensityAnalyzer\n",
    "def hesapla(text):\n",
    "    over_all_polarity=model.polarity_scores(text)\n",
    "    if over_all_polarity['compound'] >=0.05:\n",
    "        return \"1\"\n",
    "    else:\n",
    "        return \"0\"\n",
    "\n",
    "\n",
    "model = SentimentIntensityAnalyzer()\n",
    "ingilizce_set[\"vader_sonuc\"]=ingilizce_set['no_stopwords_comment'].apply(lambda x:hesapla(x))\n",
    "ingilizce_set"
   ]
  },
  {
   "cell_type": "code",
   "execution_count": 222,
   "id": "5db78a94",
   "metadata": {},
   "outputs": [
    {
     "data": {
      "text/plain": [
       "1    14700\n",
       "0     7305\n",
       "Name: vader_sonuc, dtype: int64"
      ]
     },
     "execution_count": 222,
     "metadata": {},
     "output_type": "execute_result"
    }
   ],
   "source": [
    "ingilizce_set[\"vader_sonuc\"].value_counts()"
   ]
  },
  {
   "cell_type": "code",
   "execution_count": 225,
   "id": "9cd25dd8",
   "metadata": {},
   "outputs": [],
   "source": [
    "##degisken=pd.crosstab(ingilizce_set[\"Araç Markası\"],ingilizce_set[\"vader_sonuc\"]).apply(lambda r:r/r.sum(),axis=1)\n",
    "##degisken.sort_values(by='1', ascending=False)"
   ]
  },
  {
   "cell_type": "code",
   "execution_count": 255,
   "id": "c7a55c1d",
   "metadata": {},
   "outputs": [],
   "source": [
    "from sklearn.model_selection import train_test_split\n",
    "x=train_x\n",
    "y=np.array(ingilizce_set[\"vader_sonuc\"])\n",
    "x_train,x_test,y_train,y_test=train_test_split(x,y,test_size=0.15,random_state=35)"
   ]
  },
  {
   "cell_type": "code",
   "execution_count": 256,
   "id": "537d55b8",
   "metadata": {},
   "outputs": [
    {
     "data": {
      "text/plain": [
       "((18704, 5000), (18704,))"
      ]
     },
     "execution_count": 256,
     "metadata": {},
     "output_type": "execute_result"
    }
   ],
   "source": [
    "from sklearn.feature_extraction.text import CountVectorizer\n",
    "vectorizer =CountVectorizer(max_features=5000)\n",
    "x_train=vectorizer.fit_transform(x_train)\n",
    "x_train.shape,y_train.shape"
   ]
  },
  {
   "cell_type": "code",
   "execution_count": 257,
   "id": "a9acd7e1",
   "metadata": {},
   "outputs": [
    {
     "data": {
      "text/html": [
       "<style>#sk-container-id-9 {color: black;background-color: white;}#sk-container-id-9 pre{padding: 0;}#sk-container-id-9 div.sk-toggleable {background-color: white;}#sk-container-id-9 label.sk-toggleable__label {cursor: pointer;display: block;width: 100%;margin-bottom: 0;padding: 0.3em;box-sizing: border-box;text-align: center;}#sk-container-id-9 label.sk-toggleable__label-arrow:before {content: \"▸\";float: left;margin-right: 0.25em;color: #696969;}#sk-container-id-9 label.sk-toggleable__label-arrow:hover:before {color: black;}#sk-container-id-9 div.sk-estimator:hover label.sk-toggleable__label-arrow:before {color: black;}#sk-container-id-9 div.sk-toggleable__content {max-height: 0;max-width: 0;overflow: hidden;text-align: left;background-color: #f0f8ff;}#sk-container-id-9 div.sk-toggleable__content pre {margin: 0.2em;color: black;border-radius: 0.25em;background-color: #f0f8ff;}#sk-container-id-9 input.sk-toggleable__control:checked~div.sk-toggleable__content {max-height: 200px;max-width: 100%;overflow: auto;}#sk-container-id-9 input.sk-toggleable__control:checked~label.sk-toggleable__label-arrow:before {content: \"▾\";}#sk-container-id-9 div.sk-estimator input.sk-toggleable__control:checked~label.sk-toggleable__label {background-color: #d4ebff;}#sk-container-id-9 div.sk-label input.sk-toggleable__control:checked~label.sk-toggleable__label {background-color: #d4ebff;}#sk-container-id-9 input.sk-hidden--visually {border: 0;clip: rect(1px 1px 1px 1px);clip: rect(1px, 1px, 1px, 1px);height: 1px;margin: -1px;overflow: hidden;padding: 0;position: absolute;width: 1px;}#sk-container-id-9 div.sk-estimator {font-family: monospace;background-color: #f0f8ff;border: 1px dotted black;border-radius: 0.25em;box-sizing: border-box;margin-bottom: 0.5em;}#sk-container-id-9 div.sk-estimator:hover {background-color: #d4ebff;}#sk-container-id-9 div.sk-parallel-item::after {content: \"\";width: 100%;border-bottom: 1px solid gray;flex-grow: 1;}#sk-container-id-9 div.sk-label:hover label.sk-toggleable__label {background-color: #d4ebff;}#sk-container-id-9 div.sk-serial::before {content: \"\";position: absolute;border-left: 1px solid gray;box-sizing: border-box;top: 0;bottom: 0;left: 50%;z-index: 0;}#sk-container-id-9 div.sk-serial {display: flex;flex-direction: column;align-items: center;background-color: white;padding-right: 0.2em;padding-left: 0.2em;position: relative;}#sk-container-id-9 div.sk-item {position: relative;z-index: 1;}#sk-container-id-9 div.sk-parallel {display: flex;align-items: stretch;justify-content: center;background-color: white;position: relative;}#sk-container-id-9 div.sk-item::before, #sk-container-id-9 div.sk-parallel-item::before {content: \"\";position: absolute;border-left: 1px solid gray;box-sizing: border-box;top: 0;bottom: 0;left: 50%;z-index: -1;}#sk-container-id-9 div.sk-parallel-item {display: flex;flex-direction: column;z-index: 1;position: relative;background-color: white;}#sk-container-id-9 div.sk-parallel-item:first-child::after {align-self: flex-end;width: 50%;}#sk-container-id-9 div.sk-parallel-item:last-child::after {align-self: flex-start;width: 50%;}#sk-container-id-9 div.sk-parallel-item:only-child::after {width: 0;}#sk-container-id-9 div.sk-dashed-wrapped {border: 1px dashed gray;margin: 0 0.4em 0.5em 0.4em;box-sizing: border-box;padding-bottom: 0.4em;background-color: white;}#sk-container-id-9 div.sk-label label {font-family: monospace;font-weight: bold;display: inline-block;line-height: 1.2em;}#sk-container-id-9 div.sk-label-container {text-align: center;}#sk-container-id-9 div.sk-container {/* jupyter's `normalize.less` sets `[hidden] { display: none; }` but bootstrap.min.css set `[hidden] { display: none !important; }` so we also need the `!important` here to be able to override the default hidden behavior on the sphinx rendered scikit-learn.org. See: https://github.com/scikit-learn/scikit-learn/issues/21755 */display: inline-block !important;position: relative;}#sk-container-id-9 div.sk-text-repr-fallback {display: none;}</style><div id=\"sk-container-id-9\" class=\"sk-top-container\"><div class=\"sk-text-repr-fallback\"><pre>KNeighborsClassifier()</pre><b>In a Jupyter environment, please rerun this cell to show the HTML representation or trust the notebook. <br />On GitHub, the HTML representation is unable to render, please try loading this page with nbviewer.org.</b></div><div class=\"sk-container\" hidden><div class=\"sk-item\"><div class=\"sk-estimator sk-toggleable\"><input class=\"sk-toggleable__control sk-hidden--visually\" id=\"sk-estimator-id-9\" type=\"checkbox\" checked><label for=\"sk-estimator-id-9\" class=\"sk-toggleable__label sk-toggleable__label-arrow\">KNeighborsClassifier</label><div class=\"sk-toggleable__content\"><pre>KNeighborsClassifier()</pre></div></div></div></div></div>"
      ],
      "text/plain": [
       "KNeighborsClassifier()"
      ]
     },
     "execution_count": 257,
     "metadata": {},
     "output_type": "execute_result"
    }
   ],
   "source": [
    "from sklearn.neighbors import KNeighborsClassifier\n",
    "knn=KNeighborsClassifier()\n",
    "knn.fit(x_train,y_train)"
   ]
  },
  {
   "cell_type": "code",
   "execution_count": 284,
   "id": "285081c9",
   "metadata": {},
   "outputs": [
    {
     "data": {
      "text/plain": [
       "0.7901513677606946"
      ]
     },
     "execution_count": 284,
     "metadata": {},
     "output_type": "execute_result"
    }
   ],
   "source": [
    "from sklearn.metrics import roc_auc_score\n",
    "vader_test=vectorizer.transform(x_test)\n",
    "sonuc=knn.predict(vader_test)\n",
    "dogruluk=roc_auc_score(y_test,sonuc)\n",
    "dogruluk"
   ]
  },
  {
   "cell_type": "code",
   "execution_count": 262,
   "id": "6fd01c1c",
   "metadata": {},
   "outputs": [
    {
     "name": "stdout",
     "output_type": "stream",
     "text": [
      "              precision    recall  f1-score   support\n",
      "\n",
      "           0       0.59      0.90      0.71      1114\n",
      "           1       0.93      0.68      0.79      2187\n",
      "\n",
      "    accuracy                           0.75      3301\n",
      "   macro avg       0.76      0.79      0.75      3301\n",
      "weighted avg       0.82      0.75      0.76      3301\n",
      "\n"
     ]
    }
   ],
   "source": [
    "from sklearn.metrics import classification_report\n",
    "print(metrics.classification_report(y_test,sonuc))"
   ]
  },
  {
   "cell_type": "code",
   "execution_count": null,
   "id": "a21a4b1c",
   "metadata": {},
   "outputs": [],
   "source": []
  }
 ],
 "metadata": {
  "kernelspec": {
   "display_name": "Python 3 (ipykernel)",
   "language": "python",
   "name": "python3"
  },
  "language_info": {
   "codemirror_mode": {
    "name": "ipython",
    "version": 3
   },
   "file_extension": ".py",
   "mimetype": "text/x-python",
   "name": "python",
   "nbconvert_exporter": "python",
   "pygments_lexer": "ipython3",
   "version": "3.9.0"
  }
 },
 "nbformat": 4,
 "nbformat_minor": 5
}
